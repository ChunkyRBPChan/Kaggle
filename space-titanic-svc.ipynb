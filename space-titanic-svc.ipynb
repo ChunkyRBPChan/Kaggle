{
 "cells": [
  {
   "cell_type": "code",
   "execution_count": 1,
   "id": "df61818b",
   "metadata": {
    "_cell_guid": "b1076dfc-b9ad-4769-8c92-a6c4dae69d19",
    "_uuid": "8f2839f25d086af736a60e9eeb907d3b93b6e0e5",
    "execution": {
     "iopub.execute_input": "2022-04-28T03:22:31.001956Z",
     "iopub.status.busy": "2022-04-28T03:22:31.001206Z",
     "iopub.status.idle": "2022-04-28T03:22:31.016182Z",
     "shell.execute_reply": "2022-04-28T03:22:31.014577Z"
    },
    "papermill": {
     "duration": 0.030958,
     "end_time": "2022-04-28T03:22:31.020367",
     "exception": false,
     "start_time": "2022-04-28T03:22:30.989409",
     "status": "completed"
    },
    "tags": []
   },
   "outputs": [
    {
     "name": "stdout",
     "output_type": "stream",
     "text": [
      "/kaggle/src/script.ipynb\n",
      "/kaggle/lib/kaggle/gcp.py\n",
      "/kaggle/input/spaceship-titanic/sample_submission.csv\n",
      "/kaggle/input/spaceship-titanic/train.csv\n",
      "/kaggle/input/spaceship-titanic/test.csv\n",
      "/kaggle/working/__notebook__.ipynb\n"
     ]
    }
   ],
   "source": [
    "\n",
    "import os\n",
    "for dirname, _, filenames in os.walk('/kaggle/'):\n",
    "    for filename in filenames:\n",
    "        print(os.path.join(dirname, filename))\n"
   ]
  },
  {
   "cell_type": "code",
   "execution_count": 2,
   "id": "7af01bc0",
   "metadata": {
    "execution": {
     "iopub.execute_input": "2022-04-28T03:22:31.041179Z",
     "iopub.status.busy": "2022-04-28T03:22:31.040661Z",
     "iopub.status.idle": "2022-04-28T03:22:32.533938Z",
     "shell.execute_reply": "2022-04-28T03:22:32.533010Z"
    },
    "papermill": {
     "duration": 1.505733,
     "end_time": "2022-04-28T03:22:32.536305",
     "exception": false,
     "start_time": "2022-04-28T03:22:31.030572",
     "status": "completed"
    },
    "tags": []
   },
   "outputs": [],
   "source": [
    "import pandas as pd\n",
    "import numpy as np\n",
    "import matplotlib.pyplot as plt\n",
    "import seaborn as sns\n",
    "from sklearn.model_selection import train_test_split\n",
    "from sklearn.preprocessing import OneHotEncoder,OrdinalEncoder,StandardScaler\n",
    "from sklearn.pipeline import Pipeline\n",
    "from sklearn.compose import ColumnTransformer\n",
    "from sklearn.impute import SimpleImputer\n",
    "from sklearn.linear_model import LogisticRegression\n",
    "from sklearn.ensemble import RandomForestClassifier\n",
    "from sklearn.model_selection import GridSearchCV\n",
    "from sklearn.svm import SVC\n",
    "\n",
    "spaceship_Titanic =  pd.read_csv('/kaggle/input/spaceship-titanic/train.csv')\n",
    "Submission_data = pd.read_csv('/kaggle/input/spaceship-titanic/test.csv')\n",
    "spaceship_Target = spaceship_Titanic['Transported']*1\n",
    "spaceship_Data = spaceship_Titanic.drop('Transported',axis=1)\n",
    "num_pipeline = Pipeline([\n",
    "    ('imputer', SimpleImputer(strategy='median')),\n",
    "    ('std_scaler', StandardScaler())\n",
    "])"
   ]
  },
  {
   "cell_type": "code",
   "execution_count": 3,
   "id": "dbda7b0a",
   "metadata": {
    "execution": {
     "iopub.execute_input": "2022-04-28T03:22:32.554310Z",
     "iopub.status.busy": "2022-04-28T03:22:32.554046Z",
     "iopub.status.idle": "2022-04-28T03:22:32.640859Z",
     "shell.execute_reply": "2022-04-28T03:22:32.640235Z"
    },
    "papermill": {
     "duration": 0.09824,
     "end_time": "2022-04-28T03:22:32.642840",
     "exception": false,
     "start_time": "2022-04-28T03:22:32.544600",
     "status": "completed"
    },
    "tags": []
   },
   "outputs": [],
   "source": [
    "encoded_col = ['HomePlanet','CryoSleep','Destination','VIP','Cabin_deck','Cabin_side']\n",
    "noencoded_col = ['Age','RoomService','FoodCourt','ShoppingMall','Spa','VRDeck','Cabin_num']\n",
    "temp = spaceship_Data['Cabin'].str.split('/',expand=True)\n",
    "temp.columns = ['Cabin_deck','Cabin_num','Cabin_side']\n",
    "spaceship_data = pd.concat([spaceship_Data,temp],axis=1)\n",
    "ordinal_encoder = OrdinalEncoder()\n",
    "spaceship_cat_encoded = pd.DataFrame(ordinal_encoder.fit_transform(spaceship_data[encoded_col]))\n",
    "spaceship_cat_encoded.columns = encoded_col\n",
    "spaceship_prepro = pd.concat([spaceship_data[noencoded_col],spaceship_cat_encoded],axis=1)\n",
    "X_train,X_test,y_train,y_test = train_test_split(spaceship_prepro,spaceship_Target,test_size=0.2)\n",
    "X_train = num_pipeline.fit_transform(X_train)\n",
    "X_test = num_pipeline.fit_transform(X_test)"
   ]
  },
  {
   "cell_type": "code",
   "execution_count": 4,
   "id": "e1e3d56e",
   "metadata": {
    "execution": {
     "iopub.execute_input": "2022-04-28T03:22:32.660774Z",
     "iopub.status.busy": "2022-04-28T03:22:32.660152Z",
     "iopub.status.idle": "2022-04-28T03:22:35.042392Z",
     "shell.execute_reply": "2022-04-28T03:22:35.041538Z"
    },
    "papermill": {
     "duration": 2.393705,
     "end_time": "2022-04-28T03:22:35.044668",
     "exception": false,
     "start_time": "2022-04-28T03:22:32.650963",
     "status": "completed"
    },
    "tags": []
   },
   "outputs": [
    {
     "data": {
      "text/plain": [
       "SVC(C=30, gamma=0.03)"
      ]
     },
     "execution_count": 4,
     "metadata": {},
     "output_type": "execute_result"
    }
   ],
   "source": [
    "param_grid =[\n",
    "    {'kernel':['linear'], 'C': [10.,30.,100.,300.,1000.]},\n",
    "    {'kernel':['rbf'], 'C': [1.0,3.0,10.],\n",
    "     'gamma': [0.01, 0.03, 0.1, 0.3, 1.0, 3.0]}\n",
    "]\n",
    "\n",
    "svm_cls = SVC(kernel='rbf',C=30,gamma=0.03)\n",
    "svm_cls.fit(X_train,y_train)\n",
    "# grid_search = GridSearchCV(svm_reg, param_grid, cv=5, scoring='neg_mean_squared_error',verbose=2)\n",
    "# grid_search.fit(X_train, y_train)"
   ]
  },
  {
   "cell_type": "code",
   "execution_count": 5,
   "id": "45dae3df",
   "metadata": {
    "execution": {
     "iopub.execute_input": "2022-04-28T03:22:35.063609Z",
     "iopub.status.busy": "2022-04-28T03:22:35.063145Z",
     "iopub.status.idle": "2022-04-28T03:22:35.112842Z",
     "shell.execute_reply": "2022-04-28T03:22:35.112116Z"
    },
    "papermill": {
     "duration": 0.061964,
     "end_time": "2022-04-28T03:22:35.114960",
     "exception": false,
     "start_time": "2022-04-28T03:22:35.052996",
     "status": "completed"
    },
    "tags": []
   },
   "outputs": [],
   "source": [
    "Submission_feature = Submission_data.drop('PassengerId',axis=1)\n",
    "encoded_col = ['HomePlanet','CryoSleep','Destination','VIP','Cabin_deck','Cabin_side']\n",
    "noencoded_col = ['Age','RoomService','FoodCourt','ShoppingMall','Spa','VRDeck','Cabin_num']\n",
    "temp = Submission_feature['Cabin'].str.split('/',expand=True)\n",
    "temp.columns = ['Cabin_deck','Cabin_num','Cabin_side']\n",
    "Submission_feature = pd.concat([Submission_feature,temp],axis=1)\n",
    "ordinal_encoder = OrdinalEncoder()\n",
    "submission_cat_encoded = pd.DataFrame(ordinal_encoder.fit_transform(Submission_feature[encoded_col]))\n",
    "submission_cat_encoded.columns = encoded_col\n",
    "submission_prepro = pd.concat([Submission_feature[noencoded_col],submission_cat_encoded],axis=1)\n",
    "submission_prepared = num_pipeline.fit_transform(submission_prepro)"
   ]
  },
  {
   "cell_type": "code",
   "execution_count": 6,
   "id": "7b51cfb0",
   "metadata": {
    "execution": {
     "iopub.execute_input": "2022-04-28T03:22:35.133896Z",
     "iopub.status.busy": "2022-04-28T03:22:35.133353Z",
     "iopub.status.idle": "2022-04-28T03:22:36.006412Z",
     "shell.execute_reply": "2022-04-28T03:22:36.005498Z"
    },
    "papermill": {
     "duration": 0.884946,
     "end_time": "2022-04-28T03:22:36.008360",
     "exception": false,
     "start_time": "2022-04-28T03:22:35.123414",
     "status": "completed"
    },
    "tags": []
   },
   "outputs": [
    {
     "data": {
      "text/html": [
       "<div>\n",
       "<style scoped>\n",
       "    .dataframe tbody tr th:only-of-type {\n",
       "        vertical-align: middle;\n",
       "    }\n",
       "\n",
       "    .dataframe tbody tr th {\n",
       "        vertical-align: top;\n",
       "    }\n",
       "\n",
       "    .dataframe thead th {\n",
       "        text-align: right;\n",
       "    }\n",
       "</style>\n",
       "<table border=\"1\" class=\"dataframe\">\n",
       "  <thead>\n",
       "    <tr style=\"text-align: right;\">\n",
       "      <th></th>\n",
       "      <th>PassengerId</th>\n",
       "      <th>0</th>\n",
       "    </tr>\n",
       "  </thead>\n",
       "  <tbody>\n",
       "    <tr>\n",
       "      <th>0</th>\n",
       "      <td>0013_01</td>\n",
       "      <td>1</td>\n",
       "    </tr>\n",
       "    <tr>\n",
       "      <th>1</th>\n",
       "      <td>0018_01</td>\n",
       "      <td>0</td>\n",
       "    </tr>\n",
       "    <tr>\n",
       "      <th>2</th>\n",
       "      <td>0019_01</td>\n",
       "      <td>1</td>\n",
       "    </tr>\n",
       "    <tr>\n",
       "      <th>3</th>\n",
       "      <td>0021_01</td>\n",
       "      <td>1</td>\n",
       "    </tr>\n",
       "    <tr>\n",
       "      <th>4</th>\n",
       "      <td>0023_01</td>\n",
       "      <td>0</td>\n",
       "    </tr>\n",
       "    <tr>\n",
       "      <th>...</th>\n",
       "      <td>...</td>\n",
       "      <td>...</td>\n",
       "    </tr>\n",
       "    <tr>\n",
       "      <th>4272</th>\n",
       "      <td>9266_02</td>\n",
       "      <td>1</td>\n",
       "    </tr>\n",
       "    <tr>\n",
       "      <th>4273</th>\n",
       "      <td>9269_01</td>\n",
       "      <td>1</td>\n",
       "    </tr>\n",
       "    <tr>\n",
       "      <th>4274</th>\n",
       "      <td>9271_01</td>\n",
       "      <td>1</td>\n",
       "    </tr>\n",
       "    <tr>\n",
       "      <th>4275</th>\n",
       "      <td>9273_01</td>\n",
       "      <td>1</td>\n",
       "    </tr>\n",
       "    <tr>\n",
       "      <th>4276</th>\n",
       "      <td>9277_01</td>\n",
       "      <td>1</td>\n",
       "    </tr>\n",
       "  </tbody>\n",
       "</table>\n",
       "<p>4277 rows × 2 columns</p>\n",
       "</div>"
      ],
      "text/plain": [
       "     PassengerId  0\n",
       "0        0013_01  1\n",
       "1        0018_01  0\n",
       "2        0019_01  1\n",
       "3        0021_01  1\n",
       "4        0023_01  0\n",
       "...          ... ..\n",
       "4272     9266_02  1\n",
       "4273     9269_01  1\n",
       "4274     9271_01  1\n",
       "4275     9273_01  1\n",
       "4276     9277_01  1\n",
       "\n",
       "[4277 rows x 2 columns]"
      ]
     },
     "execution_count": 6,
     "metadata": {},
     "output_type": "execute_result"
    }
   ],
   "source": [
    "prediction = pd.concat([Submission_data['PassengerId'],pd.DataFrame(svm_cls.predict(submission_prepared))],axis=1)\n",
    "prediction"
   ]
  },
  {
   "cell_type": "code",
   "execution_count": 7,
   "id": "b0b2ec70",
   "metadata": {
    "execution": {
     "iopub.execute_input": "2022-04-28T03:22:36.029518Z",
     "iopub.status.busy": "2022-04-28T03:22:36.028892Z",
     "iopub.status.idle": "2022-04-28T03:22:36.041005Z",
     "shell.execute_reply": "2022-04-28T03:22:36.040194Z"
    },
    "papermill": {
     "duration": 0.025342,
     "end_time": "2022-04-28T03:22:36.042845",
     "exception": false,
     "start_time": "2022-04-28T03:22:36.017503",
     "status": "completed"
    },
    "tags": []
   },
   "outputs": [
    {
     "data": {
      "text/html": [
       "<div>\n",
       "<style scoped>\n",
       "    .dataframe tbody tr th:only-of-type {\n",
       "        vertical-align: middle;\n",
       "    }\n",
       "\n",
       "    .dataframe tbody tr th {\n",
       "        vertical-align: top;\n",
       "    }\n",
       "\n",
       "    .dataframe thead th {\n",
       "        text-align: right;\n",
       "    }\n",
       "</style>\n",
       "<table border=\"1\" class=\"dataframe\">\n",
       "  <thead>\n",
       "    <tr style=\"text-align: right;\">\n",
       "      <th></th>\n",
       "      <th>PassengerId</th>\n",
       "      <th>Transported</th>\n",
       "    </tr>\n",
       "  </thead>\n",
       "  <tbody>\n",
       "    <tr>\n",
       "      <th>0</th>\n",
       "      <td>0013_01</td>\n",
       "      <td>True</td>\n",
       "    </tr>\n",
       "    <tr>\n",
       "      <th>1</th>\n",
       "      <td>0018_01</td>\n",
       "      <td>False</td>\n",
       "    </tr>\n",
       "    <tr>\n",
       "      <th>2</th>\n",
       "      <td>0019_01</td>\n",
       "      <td>True</td>\n",
       "    </tr>\n",
       "    <tr>\n",
       "      <th>3</th>\n",
       "      <td>0021_01</td>\n",
       "      <td>True</td>\n",
       "    </tr>\n",
       "    <tr>\n",
       "      <th>4</th>\n",
       "      <td>0023_01</td>\n",
       "      <td>False</td>\n",
       "    </tr>\n",
       "    <tr>\n",
       "      <th>...</th>\n",
       "      <td>...</td>\n",
       "      <td>...</td>\n",
       "    </tr>\n",
       "    <tr>\n",
       "      <th>4272</th>\n",
       "      <td>9266_02</td>\n",
       "      <td>True</td>\n",
       "    </tr>\n",
       "    <tr>\n",
       "      <th>4273</th>\n",
       "      <td>9269_01</td>\n",
       "      <td>True</td>\n",
       "    </tr>\n",
       "    <tr>\n",
       "      <th>4274</th>\n",
       "      <td>9271_01</td>\n",
       "      <td>True</td>\n",
       "    </tr>\n",
       "    <tr>\n",
       "      <th>4275</th>\n",
       "      <td>9273_01</td>\n",
       "      <td>True</td>\n",
       "    </tr>\n",
       "    <tr>\n",
       "      <th>4276</th>\n",
       "      <td>9277_01</td>\n",
       "      <td>True</td>\n",
       "    </tr>\n",
       "  </tbody>\n",
       "</table>\n",
       "<p>4277 rows × 2 columns</p>\n",
       "</div>"
      ],
      "text/plain": [
       "     PassengerId  Transported\n",
       "0        0013_01         True\n",
       "1        0018_01        False\n",
       "2        0019_01         True\n",
       "3        0021_01         True\n",
       "4        0023_01        False\n",
       "...          ...          ...\n",
       "4272     9266_02         True\n",
       "4273     9269_01         True\n",
       "4274     9271_01         True\n",
       "4275     9273_01         True\n",
       "4276     9277_01         True\n",
       "\n",
       "[4277 rows x 2 columns]"
      ]
     },
     "execution_count": 7,
     "metadata": {},
     "output_type": "execute_result"
    }
   ],
   "source": [
    "prediction.columns = ['PassengerId','Transported']\n",
    "prediction['Transported'] = prediction['Transported'].astype('bool')\n",
    "prediction"
   ]
  },
  {
   "cell_type": "code",
   "execution_count": 8,
   "id": "7413b8e8",
   "metadata": {
    "execution": {
     "iopub.execute_input": "2022-04-28T03:22:36.063949Z",
     "iopub.status.busy": "2022-04-28T03:22:36.063074Z",
     "iopub.status.idle": "2022-04-28T03:22:36.074722Z",
     "shell.execute_reply": "2022-04-28T03:22:36.074093Z"
    },
    "papermill": {
     "duration": 0.02453,
     "end_time": "2022-04-28T03:22:36.076785",
     "exception": false,
     "start_time": "2022-04-28T03:22:36.052255",
     "status": "completed"
    },
    "tags": []
   },
   "outputs": [],
   "source": [
    "prediction.to_csv('My_output.csv',index=False)"
   ]
  },
  {
   "cell_type": "code",
   "execution_count": null,
   "id": "a1591b19",
   "metadata": {
    "papermill": {
     "duration": 0.009487,
     "end_time": "2022-04-28T03:22:36.095947",
     "exception": false,
     "start_time": "2022-04-28T03:22:36.086460",
     "status": "completed"
    },
    "tags": []
   },
   "outputs": [],
   "source": []
  }
 ],
 "metadata": {
  "kernelspec": {
   "display_name": "Python 3",
   "language": "python",
   "name": "python3"
  },
  "language_info": {
   "codemirror_mode": {
    "name": "ipython",
    "version": 3
   },
   "file_extension": ".py",
   "mimetype": "text/x-python",
   "name": "python",
   "nbconvert_exporter": "python",
   "pygments_lexer": "ipython3",
   "version": "3.7.12"
  },
  "papermill": {
   "default_parameters": {},
   "duration": 14.297879,
   "end_time": "2022-04-28T03:22:36.825079",
   "environment_variables": {},
   "exception": null,
   "input_path": "__notebook__.ipynb",
   "output_path": "__notebook__.ipynb",
   "parameters": {},
   "start_time": "2022-04-28T03:22:22.527200",
   "version": "2.3.4"
  }
 },
 "nbformat": 4,
 "nbformat_minor": 5
}
