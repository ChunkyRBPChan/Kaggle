{
 "cells": [
  {
   "cell_type": "code",
   "execution_count": 1,
   "metadata": {},
   "outputs": [],
   "source": [
    "import zipfile\n",
    "path = './spaceship-titanic.zip'\n",
    "with zipfile.ZipFile(path,'r') as f:\n",
    "    f.extractall('./')"
   ]
  },
  {
   "cell_type": "code",
   "execution_count": 2,
   "metadata": {},
   "outputs": [],
   "source": [
    "import pandas as pd\n",
    "import numpy as np\n",
    "import matplotlib.pyplot as plt\n",
    "import seaborn as sns\n",
    "import tensorflow as tf\n",
    "from tensorflow import keras\n",
    "from sklearn.model_selection import train_test_split\n",
    "from sklearn.preprocessing import OneHotEncoder,OrdinalEncoder,StandardScaler\n",
    "from sklearn.pipeline import Pipeline\n",
    "from sklearn.compose import ColumnTransformer\n",
    "from sklearn.impute import SimpleImputer\n",
    "from sklearn.linear_model import LogisticRegression\n",
    "from sklearn.ensemble import RandomForestClassifier\n",
    "from sklearn.model_selection import GridSearchCV\n",
    "\n",
    "\n",
    "spaceship_Titanic =  pd.read_csv('./train.csv')\n",
    "Submission_data  = pd.read_csv('./test.csv')\n",
    "spaceship_Target = spaceship_Titanic['Transported']*1\n",
    "spaceship_Data = spaceship_Titanic.drop('Transported',axis=1)\n",
    "num_pipeline = Pipeline([\n",
    "    ('imputer', SimpleImputer(strategy='median')),\n",
    "    ('std_scaler', StandardScaler())\n",
    "])"
   ]
  },
  {
   "cell_type": "code",
   "execution_count": 3,
   "metadata": {},
   "outputs": [],
   "source": [
    "encoded_col = ['HomePlanet','CryoSleep','Destination','VIP','Cabin_deck','Cabin_side']\n",
    "noencoded_col = ['Age','RoomService','FoodCourt','ShoppingMall','Spa','VRDeck','Cabin_num']\n",
    "temp = spaceship_Data['Cabin'].str.split('/',expand=True)\n",
    "temp.columns = ['Cabin_deck','Cabin_num','Cabin_side']\n",
    "temp['Cabin_num'] = temp['Cabin_num'].fillna(temp['Cabin_num'].median())\n",
    "temp['Cabin_num'] = temp['Cabin_num'].astype(int)\n",
    "spaceship_data = pd.concat([spaceship_Data,temp],axis=1)\n",
    "ordinal_encoder = OrdinalEncoder()\n",
    "scaler = StandardScaler()\n",
    "spaceship_cat_encoded = pd.DataFrame(ordinal_encoder.fit_transform(spaceship_data[encoded_col]))\n",
    "spaceship_cat_encoded.columns = encoded_col\n",
    "spaceship_prepro = pd.concat([spaceship_data[noencoded_col],spaceship_cat_encoded],axis=1)\n",
    "spaceship_prepro = spaceship_prepro.fillna(spaceship_prepro.median())\n",
    "X_train,X_test,y_train,y_test = train_test_split(spaceship_prepro,spaceship_Target,test_size=0.2)\n",
    "X_train,X_valid,y_train,y_valid = train_test_split(X_train,y_train,test_size=0.2)\n",
    "X_train = scaler.fit_transform(X_train)\n",
    "X_test = scaler.fit_transform(X_test)\n",
    "X_valid = scaler.fit_transform(X_valid)"
   ]
  },
  {
   "cell_type": "code",
   "execution_count": 4,
   "metadata": {},
   "outputs": [],
   "source": [
    "Submission_feature = Submission_data.drop('PassengerId',axis=1)\n",
    "encoded_col = ['HomePlanet','CryoSleep','Destination','VIP','Cabin_deck','Cabin_side']\n",
    "noencoded_col = ['Age','RoomService','FoodCourt','ShoppingMall','Spa','VRDeck','Cabin_num']\n",
    "temp = Submission_feature['Cabin'].str.split('/',expand=True)\n",
    "temp.columns = ['Cabin_deck','Cabin_num','Cabin_side']\n",
    "temp['Cabin_num'] = temp['Cabin_num'].fillna(temp['Cabin_num'].median())\n",
    "temp['Cabin_num'] = temp['Cabin_num'].astype(int)\n",
    "Submission_feature = pd.concat([Submission_feature,temp],axis=1)\n",
    "ordinal_encoder = OrdinalEncoder()\n",
    "submission_cat_encoded = pd.DataFrame(ordinal_encoder.fit_transform(Submission_feature[encoded_col]))\n",
    "submission_cat_encoded.columns = encoded_col\n",
    "submission_prepro = pd.concat([Submission_feature[noencoded_col],submission_cat_encoded],axis=1)\n",
    "submission_prepro = submission_prepro.fillna(submission_prepro.median())\n",
    "submission_prepro = scaler.fit_transform(submission_prepro)"
   ]
  },
  {
   "cell_type": "code",
   "execution_count": 13,
   "metadata": {},
   "outputs": [
    {
     "name": "stdout",
     "output_type": "stream",
     "text": [
      "Epoch 1/1000\n",
      "11/11 [==============================] - 5s 350ms/step - loss: 0.9946 - accuracy: 0.6827 - val_loss: 4.8762 - val_accuracy: 0.6147\n",
      "Epoch 2/1000\n",
      "11/11 [==============================] - 3s 315ms/step - loss: 0.7874 - accuracy: 0.7242 - val_loss: 2.9817 - val_accuracy: 0.7735\n",
      "Epoch 3/1000\n",
      "11/11 [==============================] - 3s 300ms/step - loss: 0.6571 - accuracy: 0.7350 - val_loss: 2.6020 - val_accuracy: 0.7728\n",
      "Epoch 4/1000\n",
      "11/11 [==============================] - 3s 294ms/step - loss: 0.5655 - accuracy: 0.7550 - val_loss: 1.8655 - val_accuracy: 0.7858\n",
      "Epoch 5/1000\n",
      "11/11 [==============================] - 3s 298ms/step - loss: 0.5304 - accuracy: 0.7604 - val_loss: 1.3376 - val_accuracy: 0.7843\n",
      "Epoch 6/1000\n",
      "11/11 [==============================] - 3s 277ms/step - loss: 0.5073 - accuracy: 0.7753 - val_loss: 1.8918 - val_accuracy: 0.7692\n",
      "Epoch 7/1000\n",
      "11/11 [==============================] - 3s 302ms/step - loss: 0.5049 - accuracy: 0.7690 - val_loss: 0.9270 - val_accuracy: 0.7944\n",
      "Epoch 8/1000\n",
      "11/11 [==============================] - 3s 304ms/step - loss: 0.4799 - accuracy: 0.7837 - val_loss: 0.9069 - val_accuracy: 0.7944\n",
      "Epoch 9/1000\n",
      "11/11 [==============================] - 3s 301ms/step - loss: 0.4502 - accuracy: 0.7917 - val_loss: 0.7922 - val_accuracy: 0.7930\n",
      "Epoch 10/1000\n",
      "11/11 [==============================] - 3s 302ms/step - loss: 0.4506 - accuracy: 0.7875 - val_loss: 0.6102 - val_accuracy: 0.7908\n",
      "Epoch 11/1000\n",
      "11/11 [==============================] - 3s 307ms/step - loss: 0.4471 - accuracy: 0.7863 - val_loss: 0.5556 - val_accuracy: 0.8030\n",
      "Epoch 12/1000\n",
      "11/11 [==============================] - 4s 332ms/step - loss: 0.4295 - accuracy: 0.7936 - val_loss: 0.5057 - val_accuracy: 0.8102\n",
      "Epoch 13/1000\n",
      "11/11 [==============================] - 3s 310ms/step - loss: 0.4321 - accuracy: 0.7953 - val_loss: 0.4823 - val_accuracy: 0.8030\n",
      "Epoch 14/1000\n",
      "11/11 [==============================] - 3s 307ms/step - loss: 0.4360 - accuracy: 0.7908 - val_loss: 0.4665 - val_accuracy: 0.8045\n",
      "Epoch 15/1000\n",
      "11/11 [==============================] - 3s 312ms/step - loss: 0.4265 - accuracy: 0.7976 - val_loss: 0.4582 - val_accuracy: 0.7930\n",
      "Epoch 16/1000\n",
      "11/11 [==============================] - 3s 286ms/step - loss: 0.4291 - accuracy: 0.7940 - val_loss: 0.4641 - val_accuracy: 0.8059\n",
      "Epoch 17/1000\n",
      "11/11 [==============================] - 3s 310ms/step - loss: 0.4135 - accuracy: 0.8030 - val_loss: 0.4506 - val_accuracy: 0.8009\n",
      "Epoch 18/1000\n",
      "11/11 [==============================] - 3s 298ms/step - loss: 0.4175 - accuracy: 0.8015 - val_loss: 0.4642 - val_accuracy: 0.7980\n",
      "Epoch 19/1000\n",
      "11/11 [==============================] - 3s 298ms/step - loss: 0.4179 - accuracy: 0.8006 - val_loss: 0.4380 - val_accuracy: 0.8059\n",
      "Epoch 20/1000\n",
      "11/11 [==============================] - 3s 281ms/step - loss: 0.4124 - accuracy: 0.7996 - val_loss: 0.4405 - val_accuracy: 0.8124\n",
      "Epoch 21/1000\n",
      "11/11 [==============================] - 3s 307ms/step - loss: 0.4175 - accuracy: 0.8028 - val_loss: 0.4243 - val_accuracy: 0.8059\n",
      "Epoch 22/1000\n",
      "11/11 [==============================] - 3s 282ms/step - loss: 0.4119 - accuracy: 0.7988 - val_loss: 0.4437 - val_accuracy: 0.7994\n",
      "Epoch 23/1000\n",
      "11/11 [==============================] - 3s 279ms/step - loss: 0.4158 - accuracy: 0.7997 - val_loss: 0.4318 - val_accuracy: 0.8073\n",
      "Epoch 24/1000\n",
      "11/11 [==============================] - 3s 306ms/step - loss: 0.4113 - accuracy: 0.8026 - val_loss: 0.4170 - val_accuracy: 0.8066\n",
      "Epoch 25/1000\n",
      "11/11 [==============================] - 3s 275ms/step - loss: 0.3995 - accuracy: 0.8139 - val_loss: 0.4453 - val_accuracy: 0.8009\n",
      "Epoch 26/1000\n",
      "11/11 [==============================] - 3s 278ms/step - loss: 0.4051 - accuracy: 0.8026 - val_loss: 0.4311 - val_accuracy: 0.8081\n",
      "Epoch 27/1000\n",
      "11/11 [==============================] - 3s 279ms/step - loss: 0.4068 - accuracy: 0.8055 - val_loss: 0.4213 - val_accuracy: 0.8030\n",
      "Epoch 28/1000\n",
      "11/11 [==============================] - 3s 274ms/step - loss: 0.4083 - accuracy: 0.7980 - val_loss: 0.4224 - val_accuracy: 0.8016\n",
      "Epoch 29/1000\n",
      "11/11 [==============================] - 3s 275ms/step - loss: 0.4020 - accuracy: 0.8050 - val_loss: 0.4383 - val_accuracy: 0.8023\n",
      "Epoch 30/1000\n",
      "11/11 [==============================] - 3s 279ms/step - loss: 0.4078 - accuracy: 0.7981 - val_loss: 0.4178 - val_accuracy: 0.8138\n",
      "Epoch 31/1000\n",
      "11/11 [==============================] - 3s 278ms/step - loss: 0.4057 - accuracy: 0.8100 - val_loss: 0.4231 - val_accuracy: 0.8102\n",
      "Epoch 32/1000\n",
      "11/11 [==============================] - 3s 297ms/step - loss: 0.4057 - accuracy: 0.8021 - val_loss: 0.4089 - val_accuracy: 0.8081\n",
      "Epoch 33/1000\n",
      "11/11 [==============================] - 3s 276ms/step - loss: 0.4026 - accuracy: 0.8068 - val_loss: 0.4194 - val_accuracy: 0.8081\n",
      "Epoch 34/1000\n",
      "11/11 [==============================] - 3s 282ms/step - loss: 0.3979 - accuracy: 0.8053 - val_loss: 0.4124 - val_accuracy: 0.8052\n",
      "Epoch 35/1000\n",
      "11/11 [==============================] - 3s 280ms/step - loss: 0.3989 - accuracy: 0.8060 - val_loss: 0.4096 - val_accuracy: 0.8088\n",
      "Epoch 36/1000\n",
      "11/11 [==============================] - 3s 281ms/step - loss: 0.3946 - accuracy: 0.8089 - val_loss: 0.4093 - val_accuracy: 0.8088\n",
      "Epoch 37/1000\n",
      "11/11 [==============================] - 3s 274ms/step - loss: 0.3918 - accuracy: 0.8131 - val_loss: 0.4175 - val_accuracy: 0.8081\n",
      "Epoch 38/1000\n",
      "11/11 [==============================] - 3s 274ms/step - loss: 0.3979 - accuracy: 0.8051 - val_loss: 0.4099 - val_accuracy: 0.8037\n",
      "Epoch 39/1000\n",
      "11/11 [==============================] - 3s 298ms/step - loss: 0.3929 - accuracy: 0.8100 - val_loss: 0.4057 - val_accuracy: 0.8088\n",
      "Epoch 40/1000\n",
      "11/11 [==============================] - 3s 275ms/step - loss: 0.3930 - accuracy: 0.8064 - val_loss: 0.4245 - val_accuracy: 0.7987\n",
      "Epoch 41/1000\n",
      "11/11 [==============================] - 3s 279ms/step - loss: 0.3939 - accuracy: 0.8107 - val_loss: 0.4168 - val_accuracy: 0.8073\n",
      "Epoch 42/1000\n",
      "11/11 [==============================] - 3s 272ms/step - loss: 0.3921 - accuracy: 0.8105 - val_loss: 0.4088 - val_accuracy: 0.8102\n",
      "Epoch 43/1000\n",
      "11/11 [==============================] - 3s 272ms/step - loss: 0.3948 - accuracy: 0.8105 - val_loss: 0.4123 - val_accuracy: 0.8124\n",
      "Epoch 44/1000\n",
      "11/11 [==============================] - 3s 274ms/step - loss: 0.3929 - accuracy: 0.8127 - val_loss: 0.4122 - val_accuracy: 0.8045\n",
      "Epoch 45/1000\n",
      "11/11 [==============================] - 3s 278ms/step - loss: 0.3969 - accuracy: 0.8093 - val_loss: 0.4186 - val_accuracy: 0.8030\n",
      "Epoch 46/1000\n",
      "11/11 [==============================] - 3s 285ms/step - loss: 0.3841 - accuracy: 0.8109 - val_loss: 0.4139 - val_accuracy: 0.8030\n",
      "Epoch 47/1000\n",
      "11/11 [==============================] - 3s 294ms/step - loss: 0.3822 - accuracy: 0.8215 - val_loss: 0.4202 - val_accuracy: 0.8030\n",
      "Epoch 48/1000\n",
      "11/11 [==============================] - 3s 288ms/step - loss: 0.3851 - accuracy: 0.8163 - val_loss: 0.4129 - val_accuracy: 0.8045\n",
      "Epoch 49/1000\n",
      "11/11 [==============================] - 3s 287ms/step - loss: 0.3874 - accuracy: 0.8131 - val_loss: 0.4171 - val_accuracy: 0.8052\n",
      "Best Validation Loss: 0.4057\n",
      "Best Validation Accuracy: 0.8138\n",
      "22/22 [==============================] - 1s 32ms/step - loss: 0.3661 - accuracy: 0.8231\n",
      "[0.36606594920158386, 0.8231170177459717]\n",
      "7/7 [==============================] - 0s 33ms/step - loss: 0.4434 - accuracy: 0.7913\n",
      "[0.443383127450943, 0.7912593483924866]\n",
      "6/6 [==============================] - 0s 29ms/step - loss: 0.4057 - accuracy: 0.8088\n",
      "[0.40574613213539124, 0.8087706565856934]\n"
     ]
    },
    {
     "data": {
      "image/png": "[encoded data removed]",
      "text/plain": [
       "<Figure size 432x288 with 1 Axes>"
      ]
     },
     "metadata": {
      "needs_background": "light"
     },
     "output_type": "display_data"
    },
    {
     "data": {
      "image/png": "[encoded data removed]",
      "text/plain": [
       "<Figure size 432x288 with 1 Axes>"
      ]
     },
     "metadata": {
      "needs_background": "light"
     },
     "output_type": "display_data"
    }
   ],
   "source": [
    "def build_model(n_hidden=1,n_neurons=256,learning_rate=1e-3,dropping_rate=0.5,input_shape=[13],alpha=0.001):\n",
    "    model = keras.models.Sequential()\n",
    "    model.add(keras.layers.InputLayer(input_shape=input_shape))\n",
    "    for layer in range(n_hidden):\n",
    "        model.add(keras.layers.Dense(n_neurons,activation='relu',\n",
    "                                     kernel_regularizer=keras.regularizers.l2(alpha),\n",
    "                                     kernel_initializer='he_normal'))\n",
    "        model.add(keras.layers.BatchNormalization())\n",
    "        model.add(keras.layers.Dropout(dropping_rate))\n",
    "    model.add(keras.layers.Dense(2,activation='sigmoid'))\n",
    "    optimizer = keras.optimizers.Adam(learning_rate=learning_rate)\n",
    "    model.compile(loss='sparse_categorical_crossentropy',optimizer=optimizer,metrics=['accuracy'])\n",
    "    return model\n",
    "model = build_model(n_hidden=5,n_neurons=2048,input_shape=X_train.shape[1],alpha=0)\n",
    "early_stopping_cb = keras.callbacks.EarlyStopping(patience=10,min_delta=0.001,restore_best_weights=True)\n",
    "checkpoint_cb = keras.callbacks.ModelCheckpoint('space_titanic.h5',save_best_only=True)\n",
    "history = model.fit(X_train,y_train,epochs=1000,batch_size=512,\n",
    "                    validation_data=[X_valid,y_valid],\n",
    "                    callbacks=[early_stopping_cb,checkpoint_cb])\n",
    "history_df = pd.DataFrame(history.history)\n",
    "history_df.loc[5:, ['loss', 'val_loss']].plot()\n",
    "history_df.loc[5:, ['accuracy', 'val_accuracy']].plot()\n",
    "\n",
    "print((\"Best Validation Loss: {:0.4f}\" +\\\n",
    "      \"\\nBest Validation Accuracy: {:0.4f}\")\\\n",
    "      .format(history_df['val_loss'].min(), \n",
    "              history_df['val_accuracy'].max()))\n",
    "print(model.evaluate(X_train,y_train,batch_size=256))\n",
    "print(model.evaluate(X_test,y_test,batch_size=256))\n",
    "print(model.evaluate(X_valid,y_valid,batch_size=256))"
   ]
  },
  {
   "cell_type": "code",
   "execution_count": 16,
   "metadata": {},
   "outputs": [
    {
     "data": {
      "text/plain": [
       "False    0.513444\n",
       "True     0.486556\n",
       "Name: Transported, dtype: float64"
      ]
     },
     "metadata": {},
     "output_type": "display_data"
    }
   ],
   "source": [
    "prediction = pd.concat([Submission_data['PassengerId'],pd.DataFrame(np.argmax(model.predict(submission_prepro),axis=1),columns=['Transported'])],axis=1)\n",
    "prediction['Transported'] = prediction['Transported'].astype('bool')\n",
    "display(prediction['Transported'].value_counts(normalize=True).sort_index())"
   ]
  },
  {
   "cell_type": "code",
   "execution_count": 17,
   "metadata": {},
   "outputs": [],
   "source": [
    "prediction.to_csv('My_output.csv',index=False)"
   ]
  }
 ],
 "metadata": {
  "interpreter": {
   "hash": "7ac11336cf4314242029574464055ac7f64990baadb51a0ac6dee78a7ae9040f"
  },
  "kernelspec": {
   "display_name": "Python 3.8.2 ('Spaceship_Titanic': venv)",
   "language": "python",
   "name": "python3"
  },
  "language_info": {
   "codemirror_mode": {
    "name": "ipython",
    "version": 3
   },
   "file_extension": ".py",
   "mimetype": "text/x-python",
   "name": "python",
   "nbconvert_exporter": "python",
   "pygments_lexer": "ipython3",
   "version": "3.8.2"
  },
  "orig_nbformat": 4
 },
 "nbformat": 4,
 "nbformat_minor": 2
}
